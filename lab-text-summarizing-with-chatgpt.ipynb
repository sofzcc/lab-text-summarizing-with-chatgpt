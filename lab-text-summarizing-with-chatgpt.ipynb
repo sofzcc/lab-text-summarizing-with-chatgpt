{
  "cells": [
    {
      "cell_type": "code",
      "source": [
        "#!pip install --quiet openai"
      ],
      "metadata": {
        "id": "gIkhfXcCaRv_"
      },
      "execution_count": 22,
      "outputs": []
    },
    {
      "cell_type": "markdown",
      "metadata": {
        "id": "sIS9THixYT9I"
      },
      "source": [
        "# Text summarizing with ChaptGPT\n",
        "In this lesson, you will summarize text with a focus on specific topics.\n",
        "\n",
        "## Setup"
      ]
    },
    {
      "cell_type": "code",
      "execution_count": 23,
      "metadata": {
        "tags": [],
        "id": "FTkUCcbpYT9L"
      },
      "outputs": [],
      "source": [
        "\n",
        "#from dotenv import load_dotenv, find_dotenv\n",
        "#_ = load_dotenv(find_dotenv()) # read local .env file\n",
        "\n",
        "#OPENAI_API_KEY  = os.getenv('OPENAI_API_KEY')\n",
        "from google.colab import userdata\n",
        "OPENAI_API_KEY = userdata.get('OPENAI_API_KEY_Ironhack')\n"
      ]
    },
    {
      "cell_type": "code",
      "execution_count": 24,
      "metadata": {
        "tags": [],
        "id": "0sRuKEwgYT9M"
      },
      "outputs": [],
      "source": [
        "from openai import OpenAI\n",
        "\n",
        "client = OpenAI(\n",
        "    # This is the default and can be omitted\n",
        "    api_key=OPENAI_API_KEY,\n",
        ")\n",
        "\n",
        "\n",
        "def get_completion(prompt, model=\"gpt-3.5-turbo\"): # Andrew mentioned that the prompt/ completion paradigm is preferable for this class\n",
        "    messages = [{\"role\": \"user\", \"content\": prompt}]\n",
        "    response = client.chat.completions.create(\n",
        "        model=model,\n",
        "        messages=messages,\n",
        "        temperature=0, # this is the degree of randomness of the model's output\n",
        "    )\n",
        "    return response.choices[0].message.content\n"
      ]
    },
    {
      "cell_type": "markdown",
      "metadata": {
        "id": "kc8L1d7bYT9M"
      },
      "source": [
        "## Text to summarize"
      ]
    },
    {
      "cell_type": "code",
      "execution_count": 25,
      "metadata": {
        "tags": [],
        "id": "Z79T49M5YT9N"
      },
      "outputs": [],
      "source": [
        "prod_review = \"\"\"\n",
        "Got this panda plush toy for my daughter's birthday, \\\n",
        "who loves it and takes it everywhere. It's soft and \\\n",
        "super cute, and its face has a friendly look. It's \\\n",
        "a bit small for what I paid though. I think there \\\n",
        "might be other options that are bigger for the \\\n",
        "same price. It arrived a day earlier than expected, \\\n",
        "so I got to play with it myself before I gave it \\\n",
        "to her.\n",
        "\"\"\""
      ]
    },
    {
      "cell_type": "markdown",
      "metadata": {
        "id": "HFoptRkrYT9N"
      },
      "source": [
        "## Summarize with a word/sentence/character limit"
      ]
    },
    {
      "cell_type": "code",
      "execution_count": 26,
      "metadata": {
        "tags": [],
        "colab": {
          "base_uri": "https://localhost:8080/",
          "height": 0
        },
        "id": "5qsx6Y3EYT9N",
        "outputId": "de1308e7-5e6f-4cec-d86e-879874d7e963"
      },
      "outputs": [
        {
          "output_type": "stream",
          "name": "stdout",
          "text": [
            "Summary: \n",
            "Soft and cute panda plush toy loved by daughter, but smaller than expected for the price. Arrived early, allowing for personal enjoyment before gifting.\n"
          ]
        }
      ],
      "source": [
        "prompt = f\"\"\"\n",
        "Your task is to generate a short summary of a product \\\n",
        "review from an ecommerce site.\n",
        "\n",
        "Summarize the review below, delimited by triple\n",
        "backticks, in at most 30 words.\n",
        "\n",
        "Review: ```{prod_review}```\n",
        "\"\"\"\n",
        "\n",
        "response = get_completion(prompt)\n",
        "print(response)\n"
      ]
    },
    {
      "cell_type": "markdown",
      "metadata": {
        "id": "JWIM5ZVbYT9O"
      },
      "source": [
        "## Summarize with a focus on shipping and delivery"
      ]
    },
    {
      "cell_type": "code",
      "execution_count": 27,
      "metadata": {
        "tags": [],
        "colab": {
          "base_uri": "https://localhost:8080/",
          "height": 0
        },
        "id": "ekWOi29mYT9O",
        "outputId": "e3d7535f-3c1b-4cf7-d08c-8b86e05029b6"
      },
      "outputs": [
        {
          "output_type": "stream",
          "name": "stdout",
          "text": [
            "Summary: The panda plush toy is soft and cute, but smaller than expected for the price. However, shipping was fast, arriving a day early.\n"
          ]
        }
      ],
      "source": [
        "prompt = f\"\"\"\n",
        "Your task is to generate a short summary of a product \\\n",
        "review from an ecommerce site to give feedback to the \\\n",
        "Shipping deparmtment.\n",
        "\n",
        "Summarize the review below, delimited by triple\n",
        "backticks, in at most 30 words, and focusing on any aspects \\\n",
        "that mention shipping and delivery of the product.\n",
        "\n",
        "Review: ```{prod_review}```\n",
        "\"\"\"\n",
        "\n",
        "response = get_completion(prompt)\n",
        "print(response)\n"
      ]
    },
    {
      "cell_type": "markdown",
      "metadata": {
        "id": "sOcjMmthYT9O"
      },
      "source": [
        "## Summarize with a focus on price and value"
      ]
    },
    {
      "cell_type": "code",
      "execution_count": 21,
      "metadata": {
        "tags": [],
        "colab": {
          "base_uri": "https://localhost:8080/",
          "height": 0
        },
        "id": "6RpDeNchYT9O",
        "outputId": "312242de-702d-4883-c9a9-f2377cfaf8cf"
      },
      "outputs": [
        {
          "output_type": "stream",
          "name": "stdout",
          "text": [
            "The panda plush toy is loved for its softness and cuteness, but some customers feel it's a bit small for the price. Consider offering larger options for the same price.\n"
          ]
        }
      ],
      "source": [
        "prompt = f\"\"\"\n",
        "Your task is to generate a short summary of a product \\\n",
        "review from an ecommerce site to give feedback to the \\\n",
        "pricing deparmtment, responsible for determining the \\\n",
        "price of the product.\n",
        "\n",
        "Summarize the review below, delimited by triple\n",
        "backticks, in at most 30 words, and focusing on any aspects \\\n",
        "that are relevant to the price and perceived value.\n",
        "\n",
        "Review: ```{prod_review}```\n",
        "\"\"\"\n",
        "\n",
        "response = get_completion(prompt)\n",
        "print(response)\n"
      ]
    },
    {
      "cell_type": "markdown",
      "metadata": {
        "id": "XGYX3JkyYT9P"
      },
      "source": [
        "#### Comment\n",
        "- Summaries include topics that are not related to the topic of focus."
      ]
    },
    {
      "cell_type": "markdown",
      "metadata": {
        "id": "99bfFb0gYT9P"
      },
      "source": [
        "## Try \"extract\" instead of \"summarize\""
      ]
    },
    {
      "cell_type": "code",
      "execution_count": 28,
      "metadata": {
        "tags": [],
        "colab": {
          "base_uri": "https://localhost:8080/",
          "height": 0
        },
        "id": "TLPG3Ko6YT9P",
        "outputId": "c3acdc05-6ea9-44c6-da76-7bbfb56cef18"
      },
      "outputs": [
        {
          "output_type": "stream",
          "name": "stdout",
          "text": [
            "Feedback: The product arrived a day earlier than expected, which was a pleasant surprise. Customers may appreciate faster shipping times for future orders.\n"
          ]
        }
      ],
      "source": [
        "prompt = f\"\"\"\n",
        "Your task is to extract relevant information from \\\n",
        "a product review from an ecommerce site to give \\\n",
        "feedback to the Shipping department.\n",
        "\n",
        "From the review below, delimited by triple quotes \\\n",
        "extract the information relevant to shipping and \\\n",
        "delivery. Limit to 30 words.\n",
        "\n",
        "Review: ```{prod_review}```\n",
        "\"\"\"\n",
        "\n",
        "response = get_completion(prompt)\n",
        "print(response)"
      ]
    },
    {
      "cell_type": "markdown",
      "metadata": {
        "id": "wEGoucsRYT9P"
      },
      "source": [
        "## Summarize multiple product reviews"
      ]
    },
    {
      "cell_type": "code",
      "execution_count": 56,
      "metadata": {
        "tags": [],
        "colab": {
          "base_uri": "https://localhost:8080/",
          "height": 17
        },
        "id": "qxUlOOe3YT9P",
        "outputId": "cca90fa4-21f6-4b8b-aa03-966d78663fa6"
      },
      "outputs": [
        {
          "output_type": "display_data",
          "data": {
            "text/plain": [
              "<IPython.core.display.HTML object>"
            ],
            "text/html": [
              "\n",
              "  <style>\n",
              "    pre {\n",
              "        white-space: pre-wrap;\n",
              "    }\n",
              "  </style>\n",
              "  "
            ]
          },
          "metadata": {}
        },
        {
          "output_type": "display_data",
          "data": {
            "text/plain": [
              "<IPython.core.display.HTML object>"
            ],
            "text/html": [
              "\n",
              "  <style>\n",
              "    pre {\n",
              "        white-space: pre-wrap;\n",
              "    }\n",
              "  </style>\n",
              "  "
            ]
          },
          "metadata": {}
        }
      ],
      "source": [
        "\n",
        "review_1 = prod_review\n",
        "\n",
        "# review for a standing lamp\n",
        "review_2 = \"\"\"\n",
        "Needed a nice lamp for my bedroom, and this one \\\n",
        "had additional storage and not too high of a price \\\n",
        "point. Got it fast - arrived in 2 days. The string \\\n",
        "to the lamp broke during the transit and the company \\\n",
        "happily sent over a new one. Came within a few days \\\n",
        "as well. It was easy to put together. Then I had a \\\n",
        "missing part, so I contacted their support and they \\\n",
        "very quickly got me the missing piece! Seems to me \\\n",
        "to be a great company that cares about their customers \\\n",
        "and products.\n",
        "\"\"\"\n",
        "\n",
        "# review for an electric toothbrush\n",
        "review_3 = \"\"\"\n",
        "My dental hygienist recommended an electric toothbrush, \\\n",
        "which is why I got this. The battery life seems to be \\\n",
        "pretty impressive so far. After initial charging and \\\n",
        "leaving the charger plugged in for the first week to \\\n",
        "condition the battery, I've unplugged the charger and \\\n",
        "been using it for twice daily brushing for the last \\\n",
        "3 weeks all on the same charge. But the toothbrush head \\\n",
        "is too small. I’ve seen baby toothbrushes bigger than \\\n",
        "this one. I wish the head was bigger with different \\\n",
        "length bristles to get between teeth better because \\\n",
        "this one doesn’t.  Overall if you can get this one \\\n",
        "around the $50 mark, it's a good deal. The manufactuer's \\\n",
        "replacements heads are pretty expensive, but you can \\\n",
        "get generic ones that're more reasonably priced. This \\\n",
        "toothbrush makes me feel like I've been to the dentist \\\n",
        "every day. My teeth feel sparkly clean!\n",
        "\"\"\"\n",
        "\n",
        "# review for a blender\n",
        "review_4 = \"\"\"\n",
        "So, they still had the 17 piece system on seasonal \\\n",
        "sale for around $49 in the month of November, about \\\n",
        "half off, but for some reason (call it price gouging) \\\n",
        "around the second week of December the prices all went \\\n",
        "up to about anywhere from between $70-$89 for the same \\\n",
        "system. And the 11 piece system went up around $10 or \\\n",
        "so in price also from the earlier sale price of $29. \\\n",
        "So it looks okay, but if you look at the base, the part \\\n",
        "where the blade locks into place doesn’t look as good \\\n",
        "as in previous editions from a few years ago, but I \\\n",
        "plan to be very gentle with it (example, I crush \\\n",
        "very hard items like beans, ice, rice, etc. in the \\\n",
        "blender first then pulverize them in the serving size \\\n",
        "I want in the blender then switch to the whipping \\\n",
        "blade for a finer flour, and use the cross cutting blade \\\n",
        "first when making smoothies, then use the flat blade \\\n",
        "if I need them finer/less pulpy). Special tip when making \\\n",
        "smoothies, finely cut and freeze the fruits and \\\n",
        "vegetables (if using spinach-lightly stew soften the \\\n",
        "spinach then freeze until ready for use-and if making \\\n",
        "sorbet, use a small to medium sized food processor) \\\n",
        "that you plan to use that way you can avoid adding so \\\n",
        "much ice if at all-when making your smoothie. \\\n",
        "After about a year, the motor was making a funny noise. \\\n",
        "I called customer service but the warranty expired \\\n",
        "already, so I had to buy another one. FYI: The overall \\\n",
        "quality has gone done in these types of products, so \\\n",
        "they are kind of counting on brand recognition and \\\n",
        "consumer loyalty to maintain sales. Got it in about \\\n",
        "two days.\n",
        "\"\"\"\n",
        "\n",
        "reviews = [review_1, review_2, review_3, review_4]"
      ]
    },
    {
      "cell_type": "code",
      "execution_count": 57,
      "metadata": {
        "tags": [],
        "colab": {
          "base_uri": "https://localhost:8080/",
          "height": 196
        },
        "id": "ioYrbaBjYT9Q",
        "outputId": "25d6923e-e883-4ba0-e621-3c1b76dea07e"
      },
      "outputs": [
        {
          "output_type": "display_data",
          "data": {
            "text/plain": [
              "<IPython.core.display.HTML object>"
            ],
            "text/html": [
              "\n",
              "  <style>\n",
              "    pre {\n",
              "        white-space: pre-wrap;\n",
              "    }\n",
              "  </style>\n",
              "  "
            ]
          },
          "metadata": {}
        },
        {
          "output_type": "display_data",
          "data": {
            "text/plain": [
              "<IPython.core.display.HTML object>"
            ],
            "text/html": [
              "\n",
              "  <style>\n",
              "    pre {\n",
              "        white-space: pre-wrap;\n",
              "    }\n",
              "  </style>\n",
              "  "
            ]
          },
          "metadata": {}
        },
        {
          "output_type": "stream",
          "name": "stdout",
          "text": [
            "0 Summary: \n",
            "Cute panda plush loved by daughter, but small for price. Arrived early, soft and friendly-faced. \n",
            "\n",
            "1 Summary: \n",
            "Lamp with storage, affordable, fast delivery. Excellent customer service - replaced broken parts promptly. Easy assembly. \n",
            "\n",
            "2 Impressive battery life, small head, good deal for $50, expensive replacement heads, leaves teeth feeling clean. \n",
            "\n",
            "3 Summary: Price fluctuations, quality concerns, motor issues after a year, and tips for usage. Brand relies on loyalty. \n",
            "\n"
          ]
        }
      ],
      "source": [
        "for i in range(len(reviews)):\n",
        "    prompt = f\"\"\"\n",
        "    Your task is to generate a short summary of a product \\\n",
        "    review from an ecommerce site.\n",
        "\n",
        "    Summarize the review below, delimited by triple \\\n",
        "    backticks in at most 20 words.\n",
        "\n",
        "    Review: ```{reviews[i]}```\n",
        "    \"\"\"\n",
        "\n",
        "    response = get_completion(prompt)\n",
        "    print(i, response, \"\\n\")"
      ]
    },
    {
      "cell_type": "markdown",
      "metadata": {
        "id": "hQOUkxWqYT9Q"
      },
      "source": [
        "# Exercise\n",
        " - Complete the prompts similar to what we did in class.\n",
        "     - Try at least 3 versions\n",
        "     - Be creative\n",
        " - Write a one page report summarizing your findings.\n",
        "     - Were there variations that didn't work well? i.e., where GPT either hallucinated or wrong\n",
        " - What did you learn?"
      ]
    },
    {
      "cell_type": "markdown",
      "source": [
        "## Reviews"
      ],
      "metadata": {
        "id": "HfATiCdUc_8O"
      }
    },
    {
      "cell_type": "code",
      "execution_count": 31,
      "metadata": {
        "id": "m8fij0YlYT9R"
      },
      "outputs": [],
      "source": [
        "\n",
        "# Pet Water Fountain - https://www.amazon.com/product-reviews/B0BWHFS3PK/ref=acr_dpx_hist_5?ie=UTF8&filterByStar=five_star&reviewerType=all_reviews#reviews-filter-bar\n",
        "review_5 = \"\"\"\n",
        "I wanted a fountain for 2 main reasons. Our 11 year old diabetic dog, who is also now blind, has dental problems. We were told years ago not to put him under anesthesia to have his teeth cleaned so you can imagine... Water is so important for him and he drank a lot. We would fill his bowl 3 times a day and would have to clean it out well each time as there would be sediment in it. I am assuming it could be from his teeth. Plus, we had just gotten 2 kittens. I didn't think it was healthy for any of them to be drinking with the sediment in the bowl as I was afraid of infection passing from one to the others or continuing an infection. The reason I hadn't gotten one sooner was that our house, built in 1950 in a rural area only had 1 outlet in each room, so there was nowhere to plug one in and the very few wireless ones were just cost prohibitive. Finally, the prices have become more reasonable. I did a lot of research. I definitely wanted good filters (that didn't cost an arm and a leg), and one big enough for all of the furries. I purchased this one with the idea that we would try it and if it didn't clear the water sufficiently, if it was too shallow for the dog, or if they wouldn't use it, I would return it.\n",
        "We've had it and been using it for a few weeks now. (We still leave 2 other bowls out at different places in the house and on the porch so that there was plenty of water available. While they occasionally drink out of one of the plain stainless bowls occasionally and the dog drinks from the bowl on the porch when he is outside, they all 3 very much prefer the fountain. We have to check it every 2-3 days (yes, he drinks that much water) and change the filters about every 3 weeks but the water that comes into the top stays clean and clear. We've noticed that the dogs teeth seem to be doing better. We cannot hear it unless the water gets low or the filters need changed. The motion sensors work perfectly and since it's in a fairly high traffic area it goes on enough that I haven't had to run it intermittently.\n",
        "It's a win-win for us! If anything changes I will update.\n",
        "\n",
        "\"\"\"\n",
        "\n",
        "# Non-stick cookware - https://www.amazon.com/NutriChef-13-Piece-Resistant-Casserole-NCCWA13/dp/B08CHF99WX/ref=sr_1_3_sspa?_encoding=UTF8&content-id=amzn1.sym.0f1ddd2e-dc49-404c-9cb8-157e3c873622&crid=2LRTV3593NEHX&dib=eyJ2IjoiMSJ9.orcsJm518lZrphiKukED-9CSqdveoo1bhqP-KUuVyr7U16bNOqmd9YDmPRBy5oXaNBufIo5HZw8miukFCG-yN6WRugTYk08iT1sSvtNl2LYHn0d0btk1VmPJDgyEHHk6mbpIk9GkrF_LYZgx-_A8-eL1Acq2W2kaYblq9yUJuQ0VFj2NAs7rVX3eml61v4eRuUrsmXZVajBvVXNdKIdJeiGtVB7SVir6WFS2-1cxdoZyAUlbCndcg_CW9RxHA7n0fX0_YUOT6tS5ze6apuSBPRMhEN0a5bS4MwfQhERqtfs.RRW2lpr1AUInkxLI0y1COPLRMZGj2obL_FMhZO3BFIA&dib_tag=se&keywords=Kitchen&pd_rd_r=081f538d-f727-4dc2-bd14-d3855d973c0a&pd_rd_w=3VdeP&pd_rd_wg=mByYk&pf_rd_p=0f1ddd2e-dc49-404c-9cb8-157e3c873622&pf_rd_r=S9F5D7QCC9MYWV01SQVF&qid=1718616825&s=kitchen-intl-ship&sprefix=kitchen%2Ckitchen-intl-ship%2C202&sr=1-3-spons&sp_csd=d2lkZ2V0TmFtZT1zcF9hdGY&psc=1\n",
        "review_6 = \"\"\"\n",
        "Super great, affordable option for people looking for safer cookware (realized recently the one pan I use almost daily is toxic so I was in desperate need of something safer). They're cute, really nicely made, but when I say do not even think about using metal utensils in these I mean it. It doesn't bother me all that much but after cooking one time and GENTLY using a metal fork in the skillet it's scratched in several spots. Also, they CAN be easy to clean - but it really depends. I use the sprayer on the sink as soon as I'm finished using a dish to hose it off and keep things from getting stuck to it, but some things do still stick on unfortunately. Nothing major but it's a little bit of a bummer.\n",
        "\"\"\"\n",
        "\n",
        "# Gaming PC - https://www.amazon.com/KAMRUI-Windows-Computer-Adjustable-Capacity/dp/B0BM8YLTH8/ref=sxin_16_pa_sp_search_thematic_sspa?_encoding=UTF8&content-id=amzn1.sym.739a72f6-6e4d-4318-b008-5d7cb86f8006%3Aamzn1.sym.739a72f6-6e4d-4318-b008-5d7cb86f8006&cv_ct_cx=computers&dib=eyJ2IjoiMSJ9.yGy-IXFUDIcsqyyXBEJi5y29VZkIjHj--06mh311LmuWgTfwtY1Ze0nAbbZZXcKu.SMokxuEOcIOHVAxSUbT9fGJimnMr9s7G4sG_aEG5KEE&dib_tag=se&keywords=computers&pd_rd_i=B0BM8YLTH8&pd_rd_r=95a5e869-ac27-44f3-ad3d-58e5cc079fbd&pd_rd_w=SXyFW&pd_rd_wg=SqNDw&pf_rd_p=739a72f6-6e4d-4318-b008-5d7cb86f8006&pf_rd_r=2QSNJFF4Y0D9B7C3A0Y6&qid=1718616826&refinements=p_n_deal_type%3A23566065011&sbo=RZvfv%2F%2FHxDF%2BO5021pAnSA%3D%3D&sr=1-4-7efdef4d-9875-47e1-927f-8c2c1c47ed49-spons&sp_csd=d2lkZ2V0TmFtZT1zcF9zZWFyY2hfdGhlbWF0aWM&th=1\n",
        "review_7 = \"\"\"\n",
        "Really basic review.\n",
        "Pros\n",
        "* No Bloatware\n",
        "*Compact\n",
        "*Can expand Disk space\n",
        "Cons\n",
        "*No USB C type port\n",
        "\n",
        "I like this little guy….BUT… It gave me 2 Windows blue screen of death during first set up. Windows update kept “freezing” and “restarting” and sometimes it randomly crashed and took SEVERAL minutes before it would re-load.\n",
        "After that I installed an online game to test out how far I could push it… While it did ran the game I had to lower the graphics. But it did run the game good enough. I would recommend it for someone that wants to tinker with computers without breaking the bank. I would NOT recommend it for a first time computer user since the blue screen and reboots could confuse and aggravate new computer users.\n",
        "\"\"\"\n",
        "\n",
        "# The Hundred-Page Machine Learning Book - https://www.amazon.com/Hundred-Page-Machine-Learning-Book/dp/1777005477/?_encoding=UTF8&pd_rd_w=WyvZT&content-id=amzn1.sym.61d4ee60-9341-4d7a-912d-bc661951aa32&pf_rd_p=61d4ee60-9341-4d7a-912d-bc661951aa32&pf_rd_r=S9F5D7QCC9MYWV01SQVF&pd_rd_wg=NIDVP&pd_rd_r=f9fdf5c3-2ab7-4c9b-b046-f8d845bf38d4&ref_=pd_hp_d_btf_cr_simh\n",
        "review_8 = \"\"\"\n",
        "This book has a good coverage of machine learning from many aspects. However, with only a bit over 100 pages, it’s hard to get deep with any subject covered. It lacks high quality or any working examples, which are necessary for reinforcing a reader’s understanding of the math and concepts covered. Good examples also help a reader to quickly ramp up his/her knowledge and skills in whatever learned and apply to solving real problems. You may want to check out another text titled “Machine Learning: a Quantitative Approach,” which provides systematically not only math behind ML but also many working examples implemented with major ML frameworks written in Python, C and C++. In general, it’s better to read and work through one text or at most two with necessary math and solid examples, rather than chase many websites scattered everywhere.\n",
        "\n",
        "The book does offer QR code for a reader to scan with a smart phone and get to the intended websites for more in-depth coverage, but I am not able to use it effectively with my iPhone, since the screen size of a smart phone is not large enough for reading a text book. However, the author is certainly a very capable ML expert and has a great potential to make it significantly better.\n",
        "\n",
        "Finally, the book is too expensive as more like a pocket reference.\n",
        "\"\"\"\n",
        "\n",
        "# Biodance Face Mask - https://www.amazon.com/Biodance-Bio-Collagen-Tightening-Hydrating-Molecular/dp/B0B2RM68G2/?_encoding=UTF8&pd_rd_w=WPt1l&content-id=amzn1.sym.6bf9c4a2-2636-40a9-bd71-5e2ff1c92846&pf_rd_p=6bf9c4a2-2636-40a9-bd71-5e2ff1c92846&pf_rd_r=S9F5D7QCC9MYWV01SQVF&pd_rd_wg=NIDVP&pd_rd_r=f9fdf5c3-2ab7-4c9b-b046-f8d845bf38d4&ref_=pd_hp_d_btf_exports_top_sellers_rec\n",
        "review_9 = \"\"\"\n",
        "I’m a 33 year old man and have combination skin and larger pores. Bought this mask to help with dullness and to bring back some bounce to my skin. It isnt suitable for people with facial hair since it needs the smoothness of your skin to stick. I would also suggest making sure your skin is mostly dry after using any serums, toners, or creams prior to using this mask. It’ll significantly help with adhesion. I tried putting it on too soon and it would just slide right off my face. It feels good on my skin, just annoyed that I either shave my face or waste half of the product\n",
        "\"\"\"\n",
        "\n",
        "reviews_batch = [review_5, review_6, review_7, review_8, review_9]"
      ]
    },
    {
      "cell_type": "markdown",
      "source": [
        "## Prompts"
      ],
      "metadata": {
        "id": "myuKNNCRlroF"
      }
    },
    {
      "cell_type": "code",
      "source": [
        "# Display text results with text wrap\n",
        "from IPython.display import HTML, display\n",
        "\n",
        "def set_css():\n",
        "  display(HTML('''\n",
        "  <style>\n",
        "    pre {\n",
        "        white-space: pre-wrap;\n",
        "    }\n",
        "  </style>\n",
        "  '''))\n",
        "get_ipython().events.register('pre_run_cell', set_css)\n",
        "\n"
      ],
      "metadata": {
        "id": "TSbUWqTR8XiN",
        "outputId": "e6e65ed2-ce77-413c-9621-ff6e9f83ed56",
        "colab": {
          "base_uri": "https://localhost:8080/",
          "height": 17
        }
      },
      "execution_count": 34,
      "outputs": [
        {
          "output_type": "display_data",
          "data": {
            "text/plain": [
              "<IPython.core.display.HTML object>"
            ],
            "text/html": [
              "\n",
              "  <style>\n",
              "    pre {\n",
              "        white-space: pre-wrap;\n",
              "    }\n",
              "  </style>\n",
              "  "
            ]
          },
          "metadata": {}
        }
      ]
    },
    {
      "cell_type": "markdown",
      "source": [
        "**Product pros and cons from review**"
      ],
      "metadata": {
        "id": "rvufAVo6oCWN"
      }
    },
    {
      "cell_type": "code",
      "source": [
        "#No limitation\n",
        "\n",
        "for i in range(len(reviews_batch)):\n",
        "    prompt_pros_cons = f\"\"\"\n",
        "    Your task is to identify the key pros and cons from a product review to help the marketing team promote the products based on real reviews, hightlight the best feature of the product in question.\n",
        "\n",
        "    Review: ```{reviews_batch[i]}```\n",
        "\n",
        "    Please list the pros and cons separately in bullet points.\n",
        "    \"\"\"\n",
        "    response = get_completion(prompt_pros_cons)\n",
        "    print(f\"Review {i} - Pros and Cons:\\n{response}\\n\")"
      ],
      "metadata": {
        "id": "m270o3fbHuNh",
        "outputId": "2b812b80-335d-4cfe-c15f-33b522940978",
        "colab": {
          "base_uri": "https://localhost:8080/",
          "height": 999
        }
      },
      "execution_count": 50,
      "outputs": [
        {
          "output_type": "display_data",
          "data": {
            "text/plain": [
              "<IPython.core.display.HTML object>"
            ],
            "text/html": [
              "\n",
              "  <style>\n",
              "    pre {\n",
              "        white-space: pre-wrap;\n",
              "    }\n",
              "  </style>\n",
              "  "
            ]
          },
          "metadata": {}
        },
        {
          "output_type": "display_data",
          "data": {
            "text/plain": [
              "<IPython.core.display.HTML object>"
            ],
            "text/html": [
              "\n",
              "  <style>\n",
              "    pre {\n",
              "        white-space: pre-wrap;\n",
              "    }\n",
              "  </style>\n",
              "  "
            ]
          },
          "metadata": {}
        },
        {
          "output_type": "stream",
          "name": "stdout",
          "text": [
            "Review 0 - Pros and Cons:\n",
            "Pros:\n",
            "- Provides clean and clear water for pets\n",
            "- Good filters that are affordable\n",
            "- Motion sensors work perfectly\n",
            "- Pets prefer the fountain over regular bowls\n",
            "- Helps improve the dental health of pets\n",
            "\n",
            "Cons:\n",
            "- Need to check and change filters every 3 weeks\n",
            "- Requires regular maintenance\n",
            "- May not be suitable for all pets, depending on their preferences\n",
            "\n",
            "Review 1 - Pros and Cons:\n",
            "Pros:\n",
            "- Affordable option for safer cookware\n",
            "- Cute and nicely made\n",
            "\n",
            "Cons:\n",
            "- Scratches easily with metal utensils\n",
            "- Some food still sticks despite efforts to clean it\n",
            "\n",
            "Review 2 - Pros and Cons:\n",
            "Pros:\n",
            "- No Bloatware\n",
            "- Compact\n",
            "- Can expand Disk space\n",
            "\n",
            "Cons:\n",
            "- No USB C type port\n",
            "\n",
            "Best feature: The ability to expand disk space.\n",
            "\n",
            "Review 3 - Pros and Cons:\n",
            "Pros:\n",
            "- Good coverage of machine learning from many aspects\n",
            "- Author is a capable ML expert\n",
            "- Offers QR code for more in-depth coverage\n",
            "\n",
            "Cons:\n",
            "- Only a bit over 100 pages, hard to get deep with any subject covered\n",
            "- Lacks high quality or any working examples\n",
            "- QR code may not be effectively used with a smart phone\n",
            "- Expensive for its size, more like a pocket reference\n",
            "\n",
            "Review 4 - Pros and Cons:\n",
            "Pros:\n",
            "- Helps with dullness and brings bounce to the skin\n",
            "- Feels good on the skin\n",
            "\n",
            "Cons:\n",
            "- Not suitable for people with facial hair\n",
            "- Requires smooth skin for adhesion\n",
            "- Needs mostly dry skin after using serums, toners, or creams for better adhesion\n",
            "\n"
          ]
        }
      ]
    },
    {
      "cell_type": "markdown",
      "source": [
        "**Answer** : the prompt required the model to highlight the best feature for each product according to the reviews. However the output only returned the best feature for Product 2, and not for the remaining products."
      ],
      "metadata": {
        "id": "59gXli97ManS"
      }
    },
    {
      "cell_type": "code",
      "source": [
        "#Limit of 3 pros and 3 cons for each product\n",
        "for i in range(len(reviews_batch)):\n",
        "    prompt_pros_cons = f\"\"\"\n",
        "    Your task is to identify the key pros and cons from a product review. Highlight the best feature on each product.\n",
        "\n",
        "    Review: ```{reviews_batch[i]}```\n",
        "\n",
        "    Please list the pros and cons separately in bullet points and limit them to 3 pros and 3 cons for each product.\n",
        "    \"\"\"\n",
        "    response = get_completion(prompt_pros_cons)\n",
        "    print(f\"Review {i} - Pros and Cons:\\n{response}\\n\")"
      ],
      "metadata": {
        "colab": {
          "base_uri": "https://localhost:8080/",
          "height": 1678
        },
        "id": "kDXeQuy8lrNB",
        "outputId": "01fc4a64-926b-4661-9108-286ab12d566f"
      },
      "execution_count": 51,
      "outputs": [
        {
          "output_type": "display_data",
          "data": {
            "text/plain": [
              "<IPython.core.display.HTML object>"
            ],
            "text/html": [
              "\n",
              "  <style>\n",
              "    pre {\n",
              "        white-space: pre-wrap;\n",
              "    }\n",
              "  </style>\n",
              "  "
            ]
          },
          "metadata": {}
        },
        {
          "output_type": "display_data",
          "data": {
            "text/plain": [
              "<IPython.core.display.HTML object>"
            ],
            "text/html": [
              "\n",
              "  <style>\n",
              "    pre {\n",
              "        white-space: pre-wrap;\n",
              "    }\n",
              "  </style>\n",
              "  "
            ]
          },
          "metadata": {}
        },
        {
          "output_type": "stream",
          "name": "stdout",
          "text": [
            "Review 0 - Pros and Cons:\n",
            "Pros:\n",
            "- Keeps water clean and clear\n",
            "- Dogs prefer the fountain over regular bowls\n",
            "- Motion sensors work perfectly\n",
            "\n",
            "Cons:\n",
            "- Need to change filters every 3 weeks\n",
            "- Requires regular maintenance\n",
            "- Can be noisy if water gets low or filters need changing\n",
            "\n",
            "Best feature: Keeps water clean and clear\n",
            "\n",
            "--- \n",
            "\n",
            "Pros:\n",
            "- Reasonable price\n",
            "- Good filters that are affordable\n",
            "- Large enough for multiple pets\n",
            "\n",
            "Cons:\n",
            "- Requires regular maintenance\n",
            "- Can be noisy if water gets low\n",
            "- Limited outlet availability in older homes\n",
            "\n",
            "Best feature: Reasonable price and good filters\n",
            "\n",
            "Review 1 - Pros and Cons:\n",
            "**Pros:**\n",
            "- Affordable option for safer cookware\n",
            "- Cute and nicely made\n",
            "- Can be easy to clean with proper care\n",
            "\n",
            "**Cons:**\n",
            "- Not durable against metal utensils\n",
            "- Some food still sticks to the surface\n",
            "- Scratches easily\n",
            "\n",
            "**Best Feature:**\n",
            "Affordable option for safer cookware\n",
            "\n",
            "Review 2 - Pros and Cons:\n",
            "Pros:\n",
            "- No Bloatware\n",
            "- Compact\n",
            "- Can expand Disk space\n",
            "\n",
            "Cons:\n",
            "- No USB C type port\n",
            "- Windows blue screen of death during first set up\n",
            "- Windows update issues causing freezing and restarting\n",
            "\n",
            "Best feature: Can expand Disk space\n",
            "\n",
            "Review 3 - Pros and Cons:\n",
            "Pros:\n",
            "- Good coverage of machine learning from many aspects\n",
            "- Author is a capable ML expert\n",
            "- Offers QR code for more in-depth coverage\n",
            "\n",
            "Cons:\n",
            "- Short length of the book (bit over 100 pages)\n",
            "- Lacks high quality or working examples\n",
            "- QR code may not be effectively used with smartphones\n",
            "\n",
            "Best feature: Good coverage of machine learning from many aspects\n",
            "\n",
            "Additional product mentioned in the review:\n",
            "Pros:\n",
            "- Provides systematic math behind ML\n",
            "- Offers many working examples implemented with major ML frameworks\n",
            "- Written in Python, C, and C++\n",
            "\n",
            "Cons:\n",
            "- May be overwhelming to read multiple texts with necessary math and examples\n",
            "- Not mentioned if the author is a capable ML expert\n",
            "- No mention of QR code for additional resources\n",
            "\n",
            "Best feature: Provides systematic math behind ML\n",
            "\n",
            "Review 4 - Pros and Cons:\n",
            "Pros:\n",
            "- Helps with dullness and brings bounce to the skin\n",
            "- Feels good on the skin\n",
            "- Easy to use after ensuring skin is mostly dry\n",
            "\n",
            "Cons:\n",
            "- Not suitable for people with facial hair\n",
            "- Requires smooth skin for adhesion\n",
            "- Can slide off if applied too soon after using serums or creams\n",
            "\n",
            "Best feature: Helps with dullness and brings bounce to the skin\n",
            "\n"
          ]
        }
      ]
    },
    {
      "cell_type": "markdown",
      "source": [
        "**Answer** : When limiting the output to 3 pros and 3 cons for each product, the model does now include the best feature for each product without skipping any. There are some formatting issue."
      ],
      "metadata": {
        "id": "8pex7usqNJG3"
      }
    },
    {
      "cell_type": "markdown",
      "source": [
        "**Sentiment analysis from review**"
      ],
      "metadata": {
        "id": "mpuol5YCoLcP"
      }
    },
    {
      "cell_type": "code",
      "source": [
        "#Original request of sentiment analysis\n",
        "for i in range(len(reviews_batch)):\n",
        "    prompt_sentiment_analysis = f\"\"\"\n",
        "    Your task is to perform a sentiment analysis of a product review.\n",
        "    Identify the overall sentiment as positive, negative, or neutral, and provide a brief explanation.\n",
        "    Include the reason why the review was positive or negative.\n",
        "    Review: ```{reviews_batch[i]}```\n",
        "\n",
        "    Please state the overall sentiment and provide a brief explanation.\n",
        "    \"\"\"\n",
        "    response = get_completion(prompt_sentiment_analysis)\n",
        "    print(f\"Review {i} - Sentiment Analysis:\\n{response}\\n\")\n"
      ],
      "metadata": {
        "id": "Acix_8lgIIZ5",
        "outputId": "07aa4160-d16f-4868-8b74-bc08b9e02835",
        "colab": {
          "base_uri": "https://localhost:8080/",
          "height": 731
        }
      },
      "execution_count": 55,
      "outputs": [
        {
          "output_type": "display_data",
          "data": {
            "text/plain": [
              "<IPython.core.display.HTML object>"
            ],
            "text/html": [
              "\n",
              "  <style>\n",
              "    pre {\n",
              "        white-space: pre-wrap;\n",
              "    }\n",
              "  </style>\n",
              "  "
            ]
          },
          "metadata": {}
        },
        {
          "output_type": "display_data",
          "data": {
            "text/plain": [
              "<IPython.core.display.HTML object>"
            ],
            "text/html": [
              "\n",
              "  <style>\n",
              "    pre {\n",
              "        white-space: pre-wrap;\n",
              "    }\n",
              "  </style>\n",
              "  "
            ]
          },
          "metadata": {}
        },
        {
          "output_type": "stream",
          "name": "stdout",
          "text": [
            "Review 0 - Sentiment Analysis:\n",
            "Overall sentiment: Positive\n",
            "\n",
            "Explanation: The reviewer had specific needs for a fountain due to their diabetic and blind dog with dental problems, as well as concerns about infection passing between pets. They had hesitated to purchase one earlier due to outlet limitations and cost, but found this fountain to meet their requirements after thorough research. The fountain has been effective in providing clean water, improving the dog's dental health, and being preferred by all pets. The reviewer is satisfied with the product and considers it a win-win situation for their household.\n",
            "\n",
            "Review 1 - Sentiment Analysis:\n",
            "Overall sentiment: Positive\n",
            "\n",
            "Explanation: The reviewer expresses satisfaction with the cookware as a great and affordable option for those looking for safer alternatives. They appreciate the cute and well-made design of the cookware. However, the negative aspects mentioned, such as the susceptibility to scratching with metal utensils and some difficulty in cleaning, do not seem to outweigh the positive aspects for the reviewer. They acknowledge these issues but still find the cookware to be a good choice overall.\n",
            "\n",
            "Review 2 - Sentiment Analysis:\n",
            "Overall sentiment: Neutral\n",
            "\n",
            "Explanation: The review contains both positive and negative aspects of the product. The reviewer likes the compact size, lack of bloatware, and ability to expand disk space. However, they experienced issues such as Windows blue screen of death, freezing, restarting, and crashing during setup. They also had to lower graphics while running a game. The reviewer recommends the product for those who want to tinker with computers but not for first-time computer users due to potential confusion and frustration with the technical issues.\n",
            "\n",
            "Review 3 - Sentiment Analysis:\n",
            "Overall sentiment: Negative\n",
            "\n",
            "Explanation: The review expresses dissatisfaction with the book's lack of depth, high quality examples, and working examples necessary for understanding machine learning concepts. The reviewer suggests another book that provides more comprehensive coverage and practical examples. Additionally, the reviewer mentions difficulty in using the QR code provided in the book and criticizes the high price of the book. Despite acknowledging the author's expertise, the overall sentiment is negative due to the book's shortcomings.\n",
            "\n",
            "Review 4 - Sentiment Analysis:\n",
            "Overall sentiment: Neutral\n",
            "\n",
            "Explanation: The review provides a mix of positive and negative feedback. The reviewer liked how the mask felt on their skin and believed it could help with dullness and bounce. However, they were disappointed that the mask was not suitable for people with facial hair and that it required smooth skin for proper adhesion. This led to frustration as they felt they had to choose between shaving their face or wasting product. These mixed feelings result in an overall neutral sentiment.\n",
            "\n"
          ]
        }
      ]
    },
    {
      "cell_type": "code",
      "source": [
        "#Asked for the best color\n",
        "\n",
        "for i in range(len(reviews_batch)):\n",
        "    prompt_sentiment_analysis = f\"\"\"\n",
        "    Your task is to perform a sentiment analysis of a product review. Identify the overall sentiment as positive, negative, or neutral, and provide a brief explanation.\n",
        "\n",
        "    Review: ```{reviews_batch[i]}```\n",
        "\n",
        "    Please state the overall sentiment and provide a brief explanation. For each review, give me the best color of product to choose from.\n",
        "    \"\"\"\n",
        "    response = get_completion(prompt_sentiment_analysis)\n",
        "    print(f\"Review {i} - Sentiment Analysis:\\n{response}\\n\")\n"
      ],
      "metadata": {
        "colab": {
          "base_uri": "https://localhost:8080/",
          "height": 856
        },
        "id": "ATTxmSIelvcV",
        "outputId": "ce468f44-f4cf-4251-b841-9dbfa18d5f3e"
      },
      "execution_count": 43,
      "outputs": [
        {
          "output_type": "display_data",
          "data": {
            "text/plain": [
              "<IPython.core.display.HTML object>"
            ],
            "text/html": [
              "\n",
              "  <style>\n",
              "    pre {\n",
              "        white-space: pre-wrap;\n",
              "    }\n",
              "  </style>\n",
              "  "
            ]
          },
          "metadata": {}
        },
        {
          "output_type": "display_data",
          "data": {
            "text/plain": [
              "<IPython.core.display.HTML object>"
            ],
            "text/html": [
              "\n",
              "  <style>\n",
              "    pre {\n",
              "        white-space: pre-wrap;\n",
              "    }\n",
              "  </style>\n",
              "  "
            ]
          },
          "metadata": {}
        },
        {
          "output_type": "stream",
          "name": "stdout",
          "text": [
            "Review 0 - Sentiment Analysis:\n",
            "Overall sentiment: Positive\n",
            "\n",
            "Explanation: The reviewer expresses satisfaction with the fountain, highlighting its benefits for their diabetic dog with dental problems and their kittens. They appreciate the clean and clear water, the improvement in their dog's teeth, and the convenience of the fountain. The reviewer also mentions that their pets prefer the fountain over other water sources. Overall, the reviewer is happy with their purchase and considers it a win-win situation.\n",
            "\n",
            "Best color of product to choose from: Since the color of the product is not mentioned in the review, any color would be suitable based on personal preference.\n",
            "\n",
            "Review 1 - Sentiment Analysis:\n",
            "Overall sentiment: Neutral\n",
            "\n",
            "Explanation: The reviewer has mixed feelings about the product. They appreciate the affordability and safety of the cookware but are disappointed by its susceptibility to scratching and difficulty in cleaning. The overall tone is not overly positive or negative, hence the neutral sentiment.\n",
            "\n",
            "Best color of product to choose from: Since the review does not mention any specific color preferences or options, any color would be suitable for this product.\n",
            "\n",
            "Review 2 - Sentiment Analysis:\n",
            "Overall sentiment: Neutral\n",
            "\n",
            "Explanation: The reviewer has mixed feelings about the product. They appreciate the lack of bloatware, compact size, and ability to expand disk space. However, they experienced issues such as Windows blue screen of death, freezing, and crashing during setup. The product was able to run an online game, but with lowered graphics. The reviewer recommends it for those who want to tinker with computers but not for first-time computer users due to potential confusion and frustration.\n",
            "\n",
            "Best color of product to choose from: Silver\n",
            "\n",
            "Review 3 - Sentiment Analysis:\n",
            "Overall sentiment: Neutral\n",
            "\n",
            "Explanation: The review provides a mix of positive and negative feedback about the book on machine learning. While the reviewer appreciates the coverage of the topic, they also point out the lack of depth, high-quality examples, and the high price of the book. The reviewer suggests checking out another text for a more comprehensive understanding. The sentiment is neutral as it highlights both strengths and weaknesses of the product.\n",
            "\n",
            "Best color of product to choose: Since this is a book review, the color of the product is not applicable.\n",
            "\n",
            "Review 4 - Sentiment Analysis:\n",
            "Overall sentiment: Neutral\n",
            "\n",
            "Explanation: The reviewer provides a detailed account of their experience with the product, mentioning both positive aspects (feels good on the skin) and negative aspects (not suitable for people with facial hair, needs dry skin for adhesion). The reviewer seems to have mixed feelings about the product, resulting in a neutral overall sentiment.\n",
            "\n",
            "Best color of product to choose from: Since the review does not mention any specific color options for the product, it is not applicable in this case.\n",
            "\n"
          ]
        }
      ]
    },
    {
      "cell_type": "markdown",
      "source": [
        "**Answer** : The model was able to identify the sentiment behind the reviews and explained the reason for the sentiment.\n",
        "\n",
        "When asked to also choose the best color for each product, the model only suggests a color on Review 3. For the remaining products, it either mentions that the product type doesn't have a color to choose from or that the review doesn't mention specific color options.\n",
        "\n",
        "Considering that none of the product reviews mentions color, the model shouldn't have chosen one."
      ],
      "metadata": {
        "id": "7H4KC4jiOIB8"
      }
    },
    {
      "cell_type": "markdown",
      "source": [
        "**Recommendations from review**"
      ],
      "metadata": {
        "id": "PRLLrpyKoQVR"
      }
    },
    {
      "cell_type": "code",
      "source": [
        "#Normal recommendations\n",
        "\n",
        "for i in range(len(reviews_batch)):\n",
        "    prompt_recommendations = f\"\"\"\n",
        "    Your task is to extract any recommendations or suggestions made by the reviewer for potential buyers or the manufacturer.\n",
        "\n",
        "    Review: ```{reviews_batch[i]}```\n",
        "\n",
        "    Please list any recommendations or suggestions.\n",
        "    \"\"\"\n",
        "    response = get_completion(prompt_recommendations)\n",
        "    print(f\"Review {i} - Recommendations and Suggestions:\\n{response}\\n\")\n"
      ],
      "metadata": {
        "id": "CerDyRFgIZx5"
      },
      "execution_count": null,
      "outputs": []
    },
    {
      "cell_type": "code",
      "source": [
        "for i in range(len(reviews_batch)):\n",
        "    prompt_recommendations = f\"\"\"\n",
        "    Your task is to extract any recommendations or suggestions made by the reviewer for potential buyers or the manufacturer.\n",
        "\n",
        "    Review: ```{reviews_batch[i]}```\n",
        "\n",
        "    Please list any recommendations or suggestions.\n",
        "    \"\"\"\n",
        "    response = get_completion(prompt_recommendations)\n",
        "    print(f\"Review {i} - Recommendations and Suggestions:\\n{response}\\n\")\n"
      ],
      "metadata": {
        "colab": {
          "base_uri": "https://localhost:8080/",
          "height": 571
        },
        "id": "guCKmENCmCvy",
        "outputId": "79a14dd7-91c0-4557-c12c-9a5110c432c3"
      },
      "execution_count": 37,
      "outputs": [
        {
          "output_type": "display_data",
          "data": {
            "text/plain": [
              "<IPython.core.display.HTML object>"
            ],
            "text/html": [
              "\n",
              "  <style>\n",
              "    pre {\n",
              "        white-space: pre-wrap;\n",
              "    }\n",
              "  </style>\n",
              "  "
            ]
          },
          "metadata": {}
        },
        {
          "output_type": "display_data",
          "data": {
            "text/plain": [
              "<IPython.core.display.HTML object>"
            ],
            "text/html": [
              "\n",
              "  <style>\n",
              "    pre {\n",
              "        white-space: pre-wrap;\n",
              "    }\n",
              "  </style>\n",
              "  "
            ]
          },
          "metadata": {}
        },
        {
          "output_type": "stream",
          "name": "stdout",
          "text": [
            "Review 0 - Recommendations and Suggestions:\n",
            "1. The reviewer recommends looking for a fountain with good filters that are not too expensive.\n",
            "2. The reviewer suggests getting a fountain big enough for all pets in the household.\n",
            "3. The reviewer recommends leaving multiple water bowls out in different locations in addition to the fountain.\n",
            "4. The reviewer suggests checking the fountain every 2-3 days and changing the filters every 3 weeks.\n",
            "5. The reviewer recommends monitoring the pets' teeth and overall health after using the fountain.\n",
            "\n",
            "Review 1 - Recommendations and Suggestions:\n",
            "1. Do not use metal utensils with these cookware items to prevent scratching.\n",
            "2. Use a sprayer on the sink immediately after use to help with cleaning and prevent food from sticking.\n",
            "\n",
            "Review 2 - Recommendations and Suggestions:\n",
            "1. The reviewer recommends this laptop for someone who wants to tinker with computers without spending a lot of money.\n",
            "2. The reviewer does not recommend this laptop for first-time computer users due to the blue screen of death and reboots that could confuse and aggravate them.\n",
            "3. The reviewer suggests that the manufacturer should consider adding a USB C type port to improve connectivity options.\n",
            "\n",
            "Review 3 - Recommendations and Suggestions:\n",
            "1. Check out another text titled “Machine Learning: a Quantitative Approach” for a more in-depth coverage with working examples implemented with major ML frameworks.\n",
            "2. It's better to read and work through one text or at most two with necessary math and solid examples, rather than chase many websites scattered everywhere.\n",
            "3. The author has great potential to make the book significantly better by including high quality working examples.\n",
            "4. Consider providing more accessible resources for readers who may have difficulty using QR codes on smartphones.\n",
            "5. The book is considered too expensive for its content and size, more like a pocket reference.\n",
            "\n",
            "Review 4 - Recommendations and Suggestions:\n",
            "1. This mask is not suitable for people with facial hair as it needs the smoothness of your skin to stick.\n",
            "2. Make sure your skin is mostly dry after using any serums, toners, or creams prior to using this mask to help with adhesion.\n",
            "3. Shave your face before using the mask to ensure better adhesion and avoid wasting product.\n",
            "\n"
          ]
        }
      ]
    },
    {
      "cell_type": "markdown",
      "source": [
        "**Product Comparison**"
      ],
      "metadata": {
        "id": "rxJGwnUMoTll"
      }
    },
    {
      "cell_type": "code",
      "source": [
        "for i in range(len(reviews_batch)):\n",
        "    prompt_compare_products = f\"\"\"\n",
        "    Your task is to compare the reviewed product with a similar product mentioned by the reviewer. Identify any advantages or disadvantages mentioned in the comparison.\n",
        "\n",
        "    Review: ```{reviews_batch[i]}```\n",
        "\n",
        "    Please compare the reviewed product with the similar product mentioned.\n",
        "    \"\"\"\n",
        "    response = get_completion(prompt_compare_products)\n",
        "    print(f\"Review {i} - Product Comparison:\\n{response}\\n\")\n"
      ],
      "metadata": {
        "colab": {
          "base_uri": "https://localhost:8080/",
          "height": 1124
        },
        "id": "9FlbS-TYnhkW",
        "outputId": "2881ec6b-fd77-4fb7-be31-683d45cbdfc4"
      },
      "execution_count": 38,
      "outputs": [
        {
          "output_type": "display_data",
          "data": {
            "text/plain": [
              "<IPython.core.display.HTML object>"
            ],
            "text/html": [
              "\n",
              "  <style>\n",
              "    pre {\n",
              "        white-space: pre-wrap;\n",
              "    }\n",
              "  </style>\n",
              "  "
            ]
          },
          "metadata": {}
        },
        {
          "output_type": "display_data",
          "data": {
            "text/plain": [
              "<IPython.core.display.HTML object>"
            ],
            "text/html": [
              "\n",
              "  <style>\n",
              "    pre {\n",
              "        white-space: pre-wrap;\n",
              "    }\n",
              "  </style>\n",
              "  "
            ]
          },
          "metadata": {}
        },
        {
          "output_type": "stream",
          "name": "stdout",
          "text": [
            "Review 0 - Product Comparison:\n",
            "In the review, the reviewer purchased a fountain for their pets, specifically for their diabetic dog with dental problems and their two kittens. They were concerned about sediment in the water bowl potentially causing infections and wanted a fountain with good filters that was big enough for all their pets. The reviewer found that the fountain they purchased worked well, kept the water clean, and their pets preferred it over regular water bowls.\n",
            "\n",
            "In comparison, the similar product mentioned by the reviewer was likely a wireless fountain that was cost prohibitive for them in the past. The reviewer mentioned that the prices of fountains have become more reasonable now, which allowed them to purchase one. The advantage of the reviewed product over the similar product is that it was affordable and met the reviewer's criteria for good filters and size for their pets. Additionally, the reviewer found that the fountain helped improve their dog's dental health and was preferred by all their pets.\n",
            "\n",
            "Overall, the reviewed product seems to have been a successful purchase for the reviewer, providing clean water for their pets and potentially improving their dog's dental health.\n",
            "\n",
            "Review 1 - Product Comparison:\n",
            "In the review, the reviewer mentions that the cookware they purchased is a great and affordable option for those looking for safer cookware. They also mention that the cookware is cute and nicely made. However, they caution against using metal utensils with the cookware as it can easily scratch. Additionally, they note that while the cookware can be easy to clean, it depends on the food being cooked as some things still stick to it.\n",
            "\n",
            "When comparing this to a similar product, such as a more expensive but higher quality cookware set, the advantages of the reviewed product are its affordability and safety features. However, the disadvantage is that it is not as durable when it comes to using metal utensils and can be prone to scratching. The ease of cleaning also depends on the type of food being cooked, which may be a drawback compared to a higher-end cookware set that is easier to clean.\n",
            "\n",
            "Review 2 - Product Comparison:\n",
            "The reviewed product is praised for being compact, having no bloatware, and the ability to expand disk space. However, it is criticized for not having a USB C type port and experiencing issues such as Windows blue screen of death, freezing, and crashing during setup.\n",
            "\n",
            "In comparison, the similar product mentioned by the reviewer is not explicitly stated. However, based on the review, it can be inferred that the similar product may have better stability and performance, as the reviewer mentions that the reviewed product gave them blue screen of death and other issues during setup and while running a game. The similar product may also have a USB C type port, which the reviewed product lacks.\n",
            "\n",
            "Overall, the reviewed product seems to be more budget-friendly and suitable for users who want to tinker with computers without spending a lot of money. However, it may not be the best choice for first-time computer users due to the potential for confusion and frustration caused by the mentioned issues. The similar product may offer better performance and stability, making it a more reliable option for users who prioritize these factors.\n",
            "\n",
            "Review 3 - Product Comparison:\n",
            "In the review, the reviewed book on machine learning is criticized for its lack of depth, high quality examples, and working examples to reinforce understanding. The reviewer suggests checking out another text titled \"Machine Learning: a Quantitative Approach\" which not only provides the math behind machine learning but also includes many working examples implemented with major ML frameworks in Python, C, and C++.\n",
            "\n",
            "Advantages of the similar product mentioned:\n",
            "1. Provides systematically the math behind machine learning.\n",
            "2. Includes many working examples implemented with major ML frameworks.\n",
            "3. Offers examples in Python, C, and C++.\n",
            "4. Helps readers quickly ramp up their knowledge and skills in applying machine learning to real problems.\n",
            "\n",
            "Disadvantages of the reviewed product:\n",
            "1. Lacks depth in coverage.\n",
            "2. Does not provide high quality or working examples.\n",
            "3. QR code for additional resources may not be effectively usable on a smartphone.\n",
            "4. Considered too expensive for its content.\n",
            "\n",
            "Overall, the similar product mentioned seems to offer a more comprehensive and practical approach to learning machine learning compared to the reviewed product.\n",
            "\n",
            "Review 4 - Product Comparison:\n",
            "In the review, the reviewer mentioned that the mask they bought is not suitable for people with facial hair as it needs the smoothness of the skin to stick. This is a disadvantage compared to the similar product mentioned, which presumably does not have this limitation. Additionally, the reviewer noted that the mask needs the skin to be mostly dry after using other skincare products for better adhesion, which could be seen as an inconvenience compared to a similar product that may not have this requirement. However, the reviewer did mention that the mask feels good on their skin, which could be an advantage over the similar product. Ultimately, the decision on which product to choose would depend on individual preferences and needs.\n",
            "\n"
          ]
        }
      ]
    },
    {
      "cell_type": "markdown",
      "source": [
        "**Highlight unique features**"
      ],
      "metadata": {
        "id": "wOyrSJZXoVfN"
      }
    },
    {
      "cell_type": "code",
      "source": [
        "for i in range(len(reviews_batch)):\n",
        "    prompt_unique_features = f\"\"\"\n",
        "    Your task is to highlight any unique features of the product mentioned by the reviewer that distinguish it from other similar products.\n",
        "\n",
        "    Review: ```{reviews_batch[i]}```\n",
        "\n",
        "    Please list any unique features.\n",
        "    \"\"\"\n",
        "    response = get_completion(prompt_unique_features)\n",
        "    print(f\"Review {i} - Unique Features:\\n{response}\\n\")"
      ],
      "metadata": {
        "colab": {
          "base_uri": "https://localhost:8080/",
          "height": 606
        },
        "id": "lCSs_3kinhZ2",
        "outputId": "72413521-51d6-41da-c4fa-4ff72cddffd3"
      },
      "execution_count": 39,
      "outputs": [
        {
          "output_type": "display_data",
          "data": {
            "text/plain": [
              "<IPython.core.display.HTML object>"
            ],
            "text/html": [
              "\n",
              "  <style>\n",
              "    pre {\n",
              "        white-space: pre-wrap;\n",
              "    }\n",
              "  </style>\n",
              "  "
            ]
          },
          "metadata": {}
        },
        {
          "output_type": "display_data",
          "data": {
            "text/plain": [
              "<IPython.core.display.HTML object>"
            ],
            "text/html": [
              "\n",
              "  <style>\n",
              "    pre {\n",
              "        white-space: pre-wrap;\n",
              "    }\n",
              "  </style>\n",
              "  "
            ]
          },
          "metadata": {}
        },
        {
          "output_type": "stream",
          "name": "stdout",
          "text": [
            "Review 0 - Unique Features:\n",
            "1. The fountain has good filters that are affordable, which is important for the reviewer.\n",
            "2. The fountain is big enough for multiple pets to use.\n",
            "3. The fountain has motion sensors that work perfectly.\n",
            "4. The water in the fountain stays clean and clear, even with regular use.\n",
            "5. The fountain is quiet and only makes noise when the water level is low or the filters need to be changed.\n",
            "\n",
            "Review 1 - Unique Features:\n",
            "1. The cookware is described as a safer option compared to toxic alternatives.\n",
            "2. The cookware is noted for being cute and nicely made.\n",
            "3. The cookware is not suitable for use with metal utensils as it can easily scratch.\n",
            "4. The cookware can be easy to clean, especially when using a sprayer on the sink immediately after use to prevent food from sticking.\n",
            "\n",
            "Review 2 - Unique Features:\n",
            "- No Bloatware\n",
            "- Compact size\n",
            "- Ability to expand disk space\n",
            "\n",
            "The unique feature mentioned by the reviewer is the absence of bloatware, which is software that comes pre-installed on a device and can slow down performance. This can be a significant advantage for users who prefer a clean and streamlined system.\n",
            "\n",
            "Review 3 - Unique Features:\n",
            "1. The book offers a QR code for readers to scan with a smartphone to access additional online resources for more in-depth coverage.\n",
            "2. The author is described as a very capable machine learning expert, suggesting a high level of expertise in the subject matter.\n",
            "3. The reviewer mentions that the book is more like a pocket reference, indicating that it may be concise and to the point, making it a quick and easy reference guide.\n",
            "\n",
            "Review 4 - Unique Features:\n",
            "1. The mask is specifically designed to help with dullness and bring bounce back to the skin.\n",
            "2. It requires the smoothness of the skin to stick, making it unsuitable for people with facial hair.\n",
            "3. It is recommended to ensure that the skin is mostly dry after using serums, toners, or creams prior to using the mask for better adhesion.\n",
            "4. The reviewer mentioned that the mask feels good on the skin, indicating a comfortable and pleasant experience.\n",
            "\n"
          ]
        }
      ]
    },
    {
      "cell_type": "markdown",
      "source": [
        "## Changing the temperature\n",
        "\n",
        "On previous exercises the temperature was set to 0, and the model gets more creative. Let's try with it set to 1"
      ],
      "metadata": {
        "id": "yjzjLpzrImpl"
      }
    },
    {
      "cell_type": "code",
      "source": [
        "def get_completion_1(prompt, model=\"gpt-3.5-turbo\"): # Andrew mentioned that the prompt/ completion paradigm is preferable for this class\n",
        "    messages = [{\"role\": \"user\", \"content\": prompt}]\n",
        "    response = client.chat.completions.create(\n",
        "        model=model,\n",
        "        messages=messages,\n",
        "        temperature=1, # this is the degree of randomness of the model's output\n",
        "    )\n",
        "    return response.choices[0].message.content"
      ],
      "metadata": {
        "id": "G8xKSRQ2ImH2",
        "outputId": "dacbb4c4-1eb0-4d64-8936-76b876efcbef",
        "colab": {
          "base_uri": "https://localhost:8080/",
          "height": 17
        }
      },
      "execution_count": 46,
      "outputs": [
        {
          "output_type": "display_data",
          "data": {
            "text/plain": [
              "<IPython.core.display.HTML object>"
            ],
            "text/html": [
              "\n",
              "  <style>\n",
              "    pre {\n",
              "        white-space: pre-wrap;\n",
              "    }\n",
              "  </style>\n",
              "  "
            ]
          },
          "metadata": {}
        },
        {
          "output_type": "display_data",
          "data": {
            "text/plain": [
              "<IPython.core.display.HTML object>"
            ],
            "text/html": [
              "\n",
              "  <style>\n",
              "    pre {\n",
              "        white-space: pre-wrap;\n",
              "    }\n",
              "  </style>\n",
              "  "
            ]
          },
          "metadata": {}
        }
      ]
    },
    {
      "cell_type": "code",
      "source": [
        "#Normal recommendations - extract\n",
        "\n",
        "for i in range(len(reviews_batch)):\n",
        "    prompt_recommendations = f\"\"\"\n",
        "    Your task is to extract any recommendations or suggestions made by the reviewer for potential buyers or the manufacturer.\n",
        "\n",
        "    Review: ```{reviews_batch[i]}```\n",
        "\n",
        "    Please list any recommendations or suggestions.\n",
        "    \"\"\"\n",
        "    response = get_completion_1(prompt_recommendations)\n",
        "    print(f\"Review {i} - Recommendations and Suggestions:\\n{response}\\n\")\n"
      ],
      "metadata": {
        "id": "ONF-vuI9I2x8",
        "outputId": "3c5433a0-2c77-4db4-df4a-d5740d0da25f",
        "colab": {
          "base_uri": "https://localhost:8080/",
          "height": 571
        }
      },
      "execution_count": 47,
      "outputs": [
        {
          "output_type": "display_data",
          "data": {
            "text/plain": [
              "<IPython.core.display.HTML object>"
            ],
            "text/html": [
              "\n",
              "  <style>\n",
              "    pre {\n",
              "        white-space: pre-wrap;\n",
              "    }\n",
              "  </style>\n",
              "  "
            ]
          },
          "metadata": {}
        },
        {
          "output_type": "display_data",
          "data": {
            "text/plain": [
              "<IPython.core.display.HTML object>"
            ],
            "text/html": [
              "\n",
              "  <style>\n",
              "    pre {\n",
              "        white-space: pre-wrap;\n",
              "    }\n",
              "  </style>\n",
              "  "
            ]
          },
          "metadata": {}
        },
        {
          "output_type": "stream",
          "name": "stdout",
          "text": [
            "Review 0 - Recommendations and Suggestions:\n",
            "1. Consider getting a fountain with good filters that are reasonably priced.\n",
            "2. Look for a fountain big enough for all pets in the household.\n",
            "3. Leave out multiple water bowls in different places to ensure there is plenty of water available.\n",
            "4. Check the water in the fountain every 2-3 days, especially if pets drink a lot of water.\n",
            "5. Change the filters in the fountain about every 3 weeks to maintain clean and clear water.\n",
            "6. Monitor the pet's dental health and overall well-being after using the fountain.\n",
            "\n",
            "Review 1 - Recommendations and Suggestions:\n",
            "- Do not use metal utensils with these pans to avoid scratching.\n",
            "- Consider using a gentle cleaning method to prevent food from sticking to the pans.\n",
            "- Use a sprayer on the sink to rinse off the pans immediately after use.\n",
            "\n",
            "Review 2 - Recommendations and Suggestions:\n",
            "1. The reviewer recommends this laptop for someone who wants to tinker with computers without breaking the bank.\n",
            "2. The reviewer does not recommend this laptop for a first-time computer user due to the blue screen of death and reboots that could confuse and aggravate new users.\n",
            "\n",
            "Review 3 - Recommendations and Suggestions:\n",
            "1. Check out another text titled “Machine Learning: a Quantitative Approach” for a more in-depth understanding of machine learning concepts and examples.\n",
            "2. It is better to read and work through one or at most two texts with necessary math and solid examples, rather than relying on scattered websites.\n",
            "3. Consider implementing working examples with major ML frameworks in Python, C, and C++ to reinforce understanding and skills.\n",
            "4. The author has the potential to significantly improve the book by adding high-quality working examples.\n",
            "5. The QR code for accessing more in-depth coverage may not be effectively usable with a smart phone due to screen size limitations.\n",
            "6. The book is considered too expensive for its content and is likened to more of a pocket reference.\n",
            "\n",
            "Review 4 - Recommendations and Suggestions:\n",
            "1. This mask may not be suitable for people with facial hair, as it requires the smoothness of the skin to stick properly.\n",
            "2. Ensure that your skin is mostly dry after using any serums, toners, or creams before using this mask to improve adhesion.\n",
            "3. If you have facial hair, consider shaving before using the mask to prevent wasting product.\n",
            "\n"
          ]
        }
      ]
    },
    {
      "cell_type": "markdown",
      "source": [
        "### Test 1 Conclusion\n",
        "**Temperature 0**\n",
        "\n",
        "- The recommendations and suggestions provided by the model at temperature 0 are succinct, focused and closer to the input. For example:\n",
        "  - \"The reviewer recommends looking for a fountain with good filters that are not too expensive.\"\n",
        "  - \"The reviewer suggests checking the fountain every 2-3 days and changing the filters every 3 weeks.\"\n",
        "- Each point is clear and directly addresses the reviewer's advice, maintaining a straightforward tone.\n",
        "\n",
        "**Temperature 1**\n",
        "- At temperature 1, the model provided more recommendations and included additional details and even \"opinions\":\n",
        "  - \"Consider getting a fountain with good filters that are reasonably priced.\"\n",
        "  - \"Check the water in the fountain every 2-3 days, especially if pets drink a lot of water.\"\n",
        "- There's also a bit more elaboration and slight variations in wording, offering a broader range of possible outputs.\n",
        "\n",
        "\n",
        "**Conclusions**\n",
        "When temperature is set to 0, the output is more close to the direct input and maintains a concise summary of recommendations, while setting temperature to 1, expands on the recommendations with additional details and variations, explores different perspectives and generates more nuanced advice based on the input.\n",
        "\n",
        "\n",
        "The temperature factor afects how the model will process a given input, which allows users to adjust it according to their needs. If they require precise, to-the-point recommendations similar to the original input, temperature 0 would be more appropriate. If the user is open to explore a wider range of recommendations or want to generate varied outputs based on the input, temperature 1 could be preferred."
      ],
      "metadata": {
        "id": "2-4kSN-oV9gO"
      }
    },
    {
      "cell_type": "code",
      "source": [
        "#Sentiment analysis, Temperature 0 and asked for the best color\n",
        "\n",
        "for i in range(len(reviews_batch)):\n",
        "    prompt_sentiment_analysis = f\"\"\"\n",
        "    Your task is to perform a sentiment analysis of a product review. Identify the overall sentiment as positive, negative, or neutral, and provide a brief explanation.\n",
        "\n",
        "    Review: ```{reviews_batch[i]}```\n",
        "\n",
        "    Please state the overall sentiment and provide a brief explanation. For each review, give me the best color of product to choose from.\n",
        "    \"\"\"\n",
        "    response = get_completion_1(prompt_sentiment_analysis)\n",
        "    print(f\"Review {i} - Sentiment Analysis:\\n{response}\\n\")\n"
      ],
      "metadata": {
        "id": "GL8VG0IKI4Oq",
        "outputId": "c8e83c72-4e4a-415f-e599-c42a0003fd30",
        "colab": {
          "base_uri": "https://localhost:8080/",
          "height": 856
        }
      },
      "execution_count": 58,
      "outputs": [
        {
          "output_type": "display_data",
          "data": {
            "text/plain": [
              "<IPython.core.display.HTML object>"
            ],
            "text/html": [
              "\n",
              "  <style>\n",
              "    pre {\n",
              "        white-space: pre-wrap;\n",
              "    }\n",
              "  </style>\n",
              "  "
            ]
          },
          "metadata": {}
        },
        {
          "output_type": "display_data",
          "data": {
            "text/plain": [
              "<IPython.core.display.HTML object>"
            ],
            "text/html": [
              "\n",
              "  <style>\n",
              "    pre {\n",
              "        white-space: pre-wrap;\n",
              "    }\n",
              "  </style>\n",
              "  "
            ]
          },
          "metadata": {}
        },
        {
          "output_type": "stream",
          "name": "stdout",
          "text": [
            "Review 0 - Sentiment Analysis:\n",
            "Overall sentiment: Positive\n",
            "\n",
            "Explanation: The reviewer had specific needs for a fountain for their pets, especially for their diabetic and blind dog with dental problems. They were pleased with their purchase as it provided clean water, seemed to have a positive impact on their dog's teeth, and was preferred by all their pets. The reviewer also mentioned that the product met their criteria for good filters and size. They expressed satisfaction with the product and mentioned it was a win-win for them.\n",
            "\n",
            "Best color of product to choose from: It is not mentioned in the review, so the best color would depend on personal preference.\n",
            "\n",
            "Review 1 - Sentiment Analysis:\n",
            "Overall sentiment: Positive\n",
            "\n",
            "Explanation: The reviewer mentions that the cookware is a \"super great, affordable option\" and that they are \"cute\" and \"really nicely made.\" However, they do caution against using metal utensils as it can cause scratching. The reviewer also notes that the cookware can be easy to clean with proper care. Overall, despite minor drawbacks, the reviewer seems satisfied with the product.\n",
            "\n",
            "Best color of product to choose from: The reviewer does not mention any specific color preferences, so any color option would be suitable.\n",
            "\n",
            "Review 2 - Sentiment Analysis:\n",
            "Overall sentiment: Neutral\n",
            "\n",
            "Explanation: The reviewer has mixed feelings about the product. They appreciate the lack of bloatware, compact size, and ability to expand disk space. However, they experienced issues such as blue screens of death, freezing, and crashing during setup. Despite these drawbacks, the reviewer found the product suitable for tinkering with computers at a budget-friendly price but not ideal for first-time computer users. \n",
            "\n",
            "Best color of product to choose from: Neutral colors like black or silver would be recommended to match the compact and basic design of the product.\n",
            "\n",
            "Review 3 - Sentiment Analysis:\n",
            "Overall sentiment: Neutral\n",
            "\n",
            "Explanation: The review contains both positive and negative aspects of the book. While the reviewer appreciates the coverage of machine learning in the book, they also mention shortcomings such as the lack of depth, high-quality examples, and the high price. The reviewer also suggests an alternative book for a more comprehensive understanding of machine learning. Overall, the review expresses a mixed sentiment towards the book.\n",
            "\n",
            "Best color of product to choose: Since the sentiment is neutral, a neutral color like gray or black would be a suitable choice.\n",
            "\n",
            "Review 4 - Sentiment Analysis:\n",
            "Overall sentiment: Neutral\n",
            "\n",
            "Explanation: The reviewer provides a balanced view of the product, pointing out both positive aspects (feels good on the skin) and negatives (not suitable for people with facial hair, needs dry skin for proper adhesion). The reviewer seems to have a mix of positive and negative experiences with the product, resulting in a neutral overall sentiment.\n",
            "\n",
            "Best color of product to choose from: Since the reviewer did not mention any specific color options for the product, this information is not available in the review.\n",
            "\n"
          ]
        }
      ]
    },
    {
      "cell_type": "markdown",
      "source": [
        "### Test 2 Conclusion\n",
        "\n",
        "Looking through the outputs for the different temperature, the temperature affected the output as previously mentioned:\n",
        "\n",
        "- Temperature 1 outputs are slightly more detailed and creative in explanations, providing additional context and suggestions such as neutral colors where applicable.\n",
        "\n",
        "- Temperature 0 outputs are more consistent and concise, with less variability and more straightforward explanations.\n",
        "\n",
        "The primary difference lies in the creativity and variability of the responses: higher temperature introduces more nuanced details and suggestions, while lower temperaturemaintains consistency and focus on essential points."
      ],
      "metadata": {
        "id": "csKR-emLUS8V"
      }
    },
    {
      "cell_type": "markdown",
      "source": [
        "# Final Conclusions\n",
        "\n",
        "The experiment revealed that extraction prompts often yield better-focused results compared to general summarization, especially when specific aspects are required. However, general summarization is useful for providing a quick overview.\n",
        "\n",
        "With this lab I've learned that using extraction prompts for specific details ensures more relevant and concise information, while general summarization is effective for a broad overview but may include irrelevant details.\n",
        "At the same time, tailoring prompts to the aspect of interest improves the relevance of the summary.\n",
        "\n",
        "Summarizing and extracting information from product reviews using ChatGPT can significantly aid in providing relevant feedback and insights.\n",
        "But it will always take some refinement and testing of prompts to optimize the extraction of key features for marketing and other purposes."
      ],
      "metadata": {
        "id": "knh-RTj7XV2_"
      }
    }
  ],
  "metadata": {
    "kernelspec": {
      "display_name": "Python 3 (ipykernel)",
      "language": "python",
      "name": "python3"
    },
    "language_info": {
      "codemirror_mode": {
        "name": "ipython",
        "version": 3
      },
      "file_extension": ".py",
      "mimetype": "text/x-python",
      "name": "python",
      "nbconvert_exporter": "python",
      "pygments_lexer": "ipython3",
      "version": "3.11.8"
    },
    "colab": {
      "provenance": []
    }
  },
  "nbformat": 4,
  "nbformat_minor": 0
}